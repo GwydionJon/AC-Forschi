{
 "cells": [
  {
   "cell_type": "code",
   "execution_count": null,
   "metadata": {},
   "outputs": [],
   "source": [
    "import pandas as pd\n",
    "import numpy as np\n",
    "from rdkit import Chem\n",
    "from rdkit.Chem import Descriptors\n",
    "from rdkit.Chem import Draw\n",
    "from rdkit.Chem.rdMolDescriptors import CalcMolFormula\n",
    "from tqdm import tqdm\n",
    "from joblib import Parallel, delayed\n",
    "from rdkit.Chem import AllChem"
   ]
  },
  {
   "cell_type": "code",
   "execution_count": null,
   "metadata": {},
   "outputs": [],
   "source": [
    "# read original dataset\n",
    "data_fia49k = pd.read_csv(r\"..\\data\\FIA53k.csv\", low_memory=False)"
   ]
  },
  {
   "cell_type": "code",
   "execution_count": null,
   "metadata": {},
   "outputs": [],
   "source": [
    "# take only every 4th entry to save time\n",
    "data = data_fia49k[\"la_smiles\"].values[::4]"
   ]
  },
  {
   "cell_type": "code",
   "execution_count": null,
   "metadata": {},
   "outputs": [],
   "source": [
    "# generate mol objects from smiles\n",
    "mols = []\n",
    "formulars = []\n",
    "\n",
    "for smiles in tqdm(data):\n",
    "    mol = Chem.MolFromSmiles(smiles)\n",
    "    mols.append(mol)\n",
    "    formulars.append(CalcMolFormula(mol))"
   ]
  },
  {
   "cell_type": "code",
   "execution_count": null,
   "metadata": {},
   "outputs": [],
   "source": [
    "Draw.MolToImage(mols[0])"
   ]
  },
  {
   "cell_type": "code",
   "execution_count": null,
   "metadata": {},
   "outputs": [],
   "source": [
    "# calculate the mol properties in paralell\n",
    "descrs = Parallel(n_jobs=-1)(\n",
    "    delayed(Descriptors.CalcMolDescriptors)(mol) for mol in tqdm(mols)\n",
    ")\n",
    "\n",
    "# filter interesting parameters\n",
    "interesting_descriptors = [\n",
    "    \"MolWt\",\n",
    "    \"ExactMolWt\",\n",
    "    \"NumValenceElectrons\",\n",
    "    \"HeavyAtomCount\",\n",
    "    \"NHOHCount\",\n",
    "    \"NOCount\",\n",
    "]\n",
    "df = pd.DataFrame(descrs)[interesting_descriptors]\n",
    "df[\"Formular\"] = formulars\n",
    "df[\"smiles\"] = data\n",
    "df.insert(0, \"Formular\", df.pop(\"Formular\"))\n",
    "df.insert(0, \"smiles\", df.pop(\"smiles\"))"
   ]
  },
  {
   "cell_type": "code",
   "execution_count": null,
   "metadata": {},
   "outputs": [],
   "source": [
    "# data selection\n",
    "# choose which property to filter and how many samples are wanted\n",
    "property_to_select = \"MolWt\"\n",
    "n_samples = 15\n",
    "\n",
    "# create equially spaced indicies to use in sorted df\n",
    "idx = np.round(np.linspace(1, len(df) - 1, n_samples + 1)).astype(int)\n",
    "\n",
    "\n",
    "df_sorted = df.sort_values(property_to_select)\n",
    "df_sorted[\"multiplicity\"] = 1\n",
    "df_sorted[\"charge\"] = 0\n",
    "sampled_values = df_sorted.iloc[idx]\n",
    "print(len(sampled_values))"
   ]
  },
  {
   "cell_type": "code",
   "execution_count": null,
   "metadata": {},
   "outputs": [],
   "source": [
    "sampled_values"
   ]
  },
  {
   "cell_type": "code",
   "execution_count": null,
   "metadata": {},
   "outputs": [],
   "source": [
    "Chem.Draw.MolsToGridImage(\n",
    "    [Chem.MolFromSmiles(smiles) for smiles in sampled_values[\"smiles\"].values]\n",
    ")"
   ]
  },
  {
   "cell_type": "code",
   "execution_count": null,
   "metadata": {},
   "outputs": [],
   "source": [
    "Chem.Draw.MolsToGridImage(\n",
    "    [Chem.MolFromSmiles(smiles) for smiles in sampled_values[\"smiles\"].values]\n",
    ")"
   ]
  },
  {
   "cell_type": "code",
   "execution_count": null,
   "metadata": {},
   "outputs": [],
   "source": [
    "# sampled_values.to_csv(\"example_molecules.csv\")"
   ]
  },
  {
   "cell_type": "code",
   "execution_count": null,
   "metadata": {},
   "outputs": [],
   "source": [
    "df[\"MolWt\"].hist()"
   ]
  },
  {
   "cell_type": "code",
   "execution_count": null,
   "metadata": {},
   "outputs": [],
   "source": [
    "sampled_values"
   ]
  },
  {
   "cell_type": "code",
   "execution_count": null,
   "metadata": {},
   "outputs": [],
   "source": [
    "mol_list = [Chem.MolFromSmiles(smiles) for smiles in sampled_values[\"smiles\"].values]"
   ]
  },
  {
   "cell_type": "code",
   "execution_count": null,
   "metadata": {},
   "outputs": [],
   "source": [
    "# mols_3d = [Chem.AddHs(Chem.MolFromSmiles(smiles)) for smiles in sampled_values[\"smiles\"].values]\n",
    "\n",
    "# for mol in mols_3d:\n",
    "#     AllChem.EmbedMolecule(mol)\n",
    "\n",
    "# import nglview as nv\n",
    "\n",
    "# # Visualize the first molecule\n",
    "# view = nv.show_rdkit(mols_3d[1])\n",
    "# view"
   ]
  },
  {
   "cell_type": "code",
   "execution_count": null,
   "metadata": {},
   "outputs": [],
   "source": [
    "benchmark_csv_table = pd.DataFrame()\n",
    "\n",
    "\n",
    "import pathlib\n",
    "\n",
    "file_path = pathlib.Path(\"./benchmark/xyz_files\")\n",
    "file_path.mkdir(parents=True, exist_ok=True)\n",
    "file_names = []\n",
    "formulas = []\n",
    "for i, mol in enumerate(mol_list):\n",
    "    mol = Chem.AddHs(mol)\n",
    "    AllChem.EmbedMolecule(mol)\n",
    "    AllChem.MMFFOptimizeMolecule(mol)\n",
    "    formula = CalcMolFormula(mol)\n",
    "    formulas.append(formula)\n",
    "    file_name = file_path / f\"{formula}.xyz\"\n",
    "    file_names.append(file_name.resolve())\n",
    "    # Write to XYZ file\n",
    "    with open(file_name, \"w\") as f:\n",
    "        f.write(Chem.MolToXYZBlock(mol))\n",
    "\n",
    "\n",
    "benchmark_csv_table[\"path\"] = file_names\n",
    "benchmark_csv_table[\"key\"] = formulas\n",
    "benchmark_csv_table[\"multiplicity\"] = 1\n",
    "benchmark_csv_table[\"charge\"] = 0"
   ]
  },
  {
   "cell_type": "code",
   "execution_count": null,
   "metadata": {},
   "outputs": [],
   "source": [
    "benchmark_csv_table.to_csv(file_path / \"benchmark_molecules.csv\", index=False)"
   ]
  },
  {
   "cell_type": "code",
   "execution_count": null,
   "metadata": {},
   "outputs": [],
   "source": []
  }
 ],
 "metadata": {
  "kernelspec": {
   "display_name": "Python 3",
   "language": "python",
   "name": "python3"
  },
  "language_info": {
   "codemirror_mode": {
    "name": "ipython",
    "version": 3
   },
   "file_extension": ".py",
   "mimetype": "text/x-python",
   "name": "python",
   "nbconvert_exporter": "python",
   "pygments_lexer": "ipython3",
   "version": "3.11.8"
  }
 },
 "nbformat": 4,
 "nbformat_minor": 2
}
