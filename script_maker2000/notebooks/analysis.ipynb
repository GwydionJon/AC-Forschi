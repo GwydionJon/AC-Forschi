{
 "cells": [
  {
   "cell_type": "code",
   "execution_count": null,
   "metadata": {},
   "outputs": [],
   "source": [
    "import script_maker2000 as scr_mkr\n",
    "import numpy as np\n",
    "import plotly.express as px\n",
    "from collections import defaultdict\n",
    "from molmass import Formula\n",
    "\n",
    "file_path = r\"C:\\Users\\AK\\Documents\\Daskalakis_Gwydion\\AC-Forschi\\cpu_benchmark\\cpu_benchmark_job_backup.json\""
   ]
  },
  {
   "cell_type": "code",
   "execution_count": null,
   "metadata": {},
   "outputs": [],
   "source": [
    "jb = scr_mkr.analysis.load_job_backup(file_path)\n",
    "\n",
    "columns_with_units = [\n",
    "    \"CPUTimeRAW\",\n",
    "    \"ElapsedRaw\",\n",
    "    \"TimelimitRaw\",\n",
    "    \"ConsumedEnergyRaw\",\n",
    "    \"MaxDiskRead\",\n",
    "    \"MaxDiskWrite\",\n",
    "    \"MaxVMSize\",\n",
    "    \"ReqMem\",\n",
    "]\n",
    "filter_list = [\"PBEh_3c_opt\", \"r2SCAN3c\", \"PBEh3c_freq\", \"B3LYP_D4\", \"PBEh3c\"]\n",
    "\n",
    "df = scr_mkr.analysis.extract_efficency_dataframe(\n",
    "    jb, columns_with_units=columns_with_units, filter_list=filter_list\n",
    ")"
   ]
  },
  {
   "cell_type": "code",
   "execution_count": null,
   "metadata": {},
   "outputs": [],
   "source": [
    "df"
   ]
  },
  {
   "cell_type": "code",
   "execution_count": null,
   "metadata": {},
   "outputs": [],
   "source": []
  },
  {
   "cell_type": "code",
   "execution_count": null,
   "metadata": {},
   "outputs": [],
   "source": [
    "df_filtered = scr_mkr.analysis.filter_dataframe(df, \"B3LYP_D4\")\n",
    "df_filtered.head()"
   ]
  },
  {
   "cell_type": "code",
   "execution_count": null,
   "metadata": {},
   "outputs": [],
   "source": [
    "df_filtered.shape"
   ]
  },
  {
   "cell_type": "code",
   "execution_count": null,
   "metadata": {},
   "outputs": [],
   "source": [
    "hist = [513, 3208, 4243, 2810, 1402, 601, 304, 134, 54, 20, 14, 9, 4, 0, 1, 3]\n",
    "bin_edges = [\n",
    "    30.102,\n",
    "    156.0416875,\n",
    "    281.981375,\n",
    "    407.9210625,\n",
    "    533.86075,\n",
    "    659.8004375,\n",
    "    785.740125,\n",
    "    911.6798125,\n",
    "    1037.6195,\n",
    "    1163.5591875,\n",
    "    1289.498875,\n",
    "    1415.4385625,\n",
    "    1541.37825,\n",
    "    1667.3179375,\n",
    "    1793.257625,\n",
    "    1919.1973125,\n",
    "    2045.137,\n",
    "]"
   ]
  },
  {
   "cell_type": "code",
   "execution_count": null,
   "metadata": {},
   "outputs": [],
   "source": [
    "bin_list_dict = {}\n",
    "\n",
    "for mol in df_filtered.index.get_level_values(\"Mol_Id\").unique():\n",
    "    print(Formula(mol).mass)\n",
    "    bin_list_dict[mol] = np.digitize(Formula(mol).mass, bin_edges)\n",
    "print(bin_list_dict)\n",
    "\n",
    "n, count = np.unique(list(bin_list_dict.values()), return_counts=True)"
   ]
  },
  {
   "cell_type": "code",
   "execution_count": null,
   "metadata": {},
   "outputs": [],
   "source": [
    "scr_mkr.analysis.plot_efficiency(df_filtered, \"mol_weight\", \"ElapsedRaw\")"
   ]
  },
  {
   "cell_type": "code",
   "execution_count": null,
   "metadata": {},
   "outputs": [],
   "source": [
    "scr_mkr.analysis.plot_efficiency(df_filtered, \"NCPUS\", \"ElapsedRaw\")"
   ]
  },
  {
   "cell_type": "code",
   "execution_count": null,
   "metadata": {},
   "outputs": [],
   "source": [
    "methos_filters = [\"B3LYP_D4\", \"PBEh3c\", \"PBEh3c_freq\", \"r2SCAN3c\"]\n",
    "n_jobs = 60\n",
    "single_scan_results = scr_mkr.analysis.estimate_runtime_all_methods(\n",
    "    df, filter_methods=methos_filters, n_jobs=n_jobs, available_cpus=48\n",
    ")\n",
    "\n",
    "px.bar(\n",
    "    single_scan_results.reset_index(),\n",
    "    x=\"index\",\n",
    "    y=[1, 2, 4, 8, 12, 16],\n",
    "    barmode=\"group\",\n",
    "    title=f\"Estimated total run time for {n_jobs} jobs for different number of CPUs\",\n",
    "    labels={\n",
    "        \"value\": \"Total run time [h]\",\n",
    "        \"index\": \"Method\",\n",
    "        \"variable\": \"Number of CPUs\",\n",
    "    },\n",
    "    text_auto=\".2f\",\n",
    ")"
   ]
  },
  {
   "cell_type": "code",
   "execution_count": null,
   "metadata": {},
   "outputs": [],
   "source": [
    "normalized_df = single_scan_results / single_scan_results.values.max()\n",
    "normalized_df\n",
    "px.bar(\n",
    "    normalized_df.reset_index(),\n",
    "    x=\"index\",\n",
    "    y=[1, 2, 4, 8, 12, 16],\n",
    "    barmode=\"group\",\n",
    "    title=f\"Estimated total run time for {n_jobs} jobs for different number of CPUs\",\n",
    "    labels={\n",
    "        \"value\": \"Normalized runtime\",\n",
    "        \"index\": \"Method\",\n",
    "        \"variable\": \"Number of CPUs\",\n",
    "    },\n",
    "    text_auto=\".2f\",\n",
    ")"
   ]
  },
  {
   "cell_type": "code",
   "execution_count": null,
   "metadata": {},
   "outputs": [],
   "source": [
    "# scan for most efficient cpu count\n",
    "methos_filters = [\"B3LYP_D4\", \"PBEh3c\", \"PBEh3c_freq\", \"r2SCAN3c\"]\n",
    "\n",
    "result_dict = defaultdict(dict)\n",
    "\n",
    "scan_df = scr_mkr.analysis.scan_optimal_cpu_count(\n",
    "    df, filter_methods=methos_filters, min_runs=1, max_runs=120, step_size=1\n",
    ")\n",
    "scan_df.head(10)"
   ]
  },
  {
   "cell_type": "code",
   "execution_count": null,
   "metadata": {},
   "outputs": [],
   "source": [
    "px.scatter(\n",
    "    scan_df,\n",
    "    x=scan_df.index,\n",
    "    y=scan_df.columns,\n",
    "    title=\"Optimal number of CPUs for different methods\",\n",
    "    labels={\"index\": \"Number of calculations\", \"value\": \"Optimal number of CPUs\"},\n",
    ")"
   ]
  },
  {
   "cell_type": "code",
   "execution_count": null,
   "metadata": {},
   "outputs": [],
   "source": []
  }
 ],
 "metadata": {
  "kernelspec": {
   "display_name": "Python 3",
   "language": "python",
   "name": "python3"
  },
  "language_info": {
   "codemirror_mode": {
    "name": "ipython",
    "version": 3
   },
   "file_extension": ".py",
   "mimetype": "text/x-python",
   "name": "python",
   "nbconvert_exporter": "python",
   "pygments_lexer": "ipython3",
   "version": "3.11.8"
  }
 },
 "nbformat": 4,
 "nbformat_minor": 2
}
